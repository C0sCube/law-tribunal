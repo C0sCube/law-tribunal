{
 "cells": [
  {
   "cell_type": "code",
   "execution_count": null,
   "id": "328cc35f",
   "metadata": {},
   "outputs": [],
   "source": [
    "{\n",
    "    \"maturityType\": 1,\n",
    "    \"category\": 1,\n",
    "    \"subCategory\": 1,\n",
    "    \"mfid\": 0,\n",
    "    \"reportDate\": \"15-Sep-2025\"\n",
    "}"
   ]
  },
  {
   "cell_type": "code",
   "execution_count": 2,
   "id": "eb759864",
   "metadata": {},
   "outputs": [
    {
     "name": "stdout",
     "output_type": "stream",
     "text": [
      "403\n",
      "text/html\n"
     ]
    },
    {
     "name": "stderr",
     "output_type": "stream",
     "text": [
      "c:\\Users\\kaustubh.keny\\Projects\\office-work\\law-tribunal\\.venv\\Lib\\site-packages\\urllib3\\connectionpool.py:1097: InsecureRequestWarning: Unverified HTTPS request is being made to host 'www.amfiindia.com'. Adding certificate verification is strongly advised. See: https://urllib3.readthedocs.io/en/latest/advanced-usage.html#tls-warnings\n",
      "  warnings.warn(\n"
     ]
    }
   ],
   "source": [
    "import requests\n",
    "import certifi\n",
    "\n",
    "session = requests.Session()\n",
    "\n",
    "session.headers.update({\n",
    "    # 'Authorization': 'Bearer YOUR_TOKEN',\n",
    "    'Accept': 'application/json'\n",
    "})\n",
    "\n",
    "headers ={\n",
    "    \"User-Agent\": \"Mozilla/5.0 (Windows NT 10.0; Win64; x64)\",\n",
    "    \"Accept\": \"application/vnd.openxmlformats-officedocument.spreadsheetml.sheet\",\n",
    "    \"Referer\": \"https://www.amfiindia.com/\"\n",
    "}\n",
    "\n",
    "url = 'https://www.amfiindia.com/gateway/pollingsebi/api/amfi/fundperformance'\n",
    "payload ={\n",
    "    \"maturityType\": 1,\n",
    "    \"category\": 1,\n",
    "    \"subCategory\": 1,\n",
    "    \"mfid\": 0,\n",
    "    \"reportDate\": \"12-Sep-2025\"\n",
    "}\n",
    "\n",
    "response = session.get(url, params=payload, verify=False)\n",
    "\n",
    "print(response.status_code)\n",
    "print(response.headers.get('Content-Type'))"
   ]
  },
  {
   "cell_type": "code",
   "execution_count": null,
   "id": "1d3c6e71",
   "metadata": {},
   "outputs": [],
   "source": [
    "import requests\n",
    "import urllib3\n",
    "\n",
    "# Suppress warnings\n",
    "urllib3.disable_warnings(urllib3.exceptions.InsecureRequestWarning)\n",
    "\n",
    "headers = {\n",
    "    \"User-Agent\": \"Mozilla/5.0 (Windows NT 10.0; Win64; x64)\",\n",
    "    \"Accept\": \"application/json, text/plain, */*\",\n",
    "    \"Accept-Language\": \"en-US,en;q=0.9\",\n",
    "    \"Referer\": \"https://www.amfiindia.com/\",\n",
    "    \"Connection\": \"keep-alive\"\n",
    "}\n",
    "response = requests.get(\n",
    "    \"https://www.amfiindia.com/gateway/pollingsebi/api/amfi/fundperformance?maturityType=1&category=1&subCategory=1&mfid=0&reportDate=12-Sep-2025\",\n",
    "    verify=certifi.where(),\n",
    "    headers=headers\n",
    ")\n",
    "print(response.status_code)"
   ]
  }
 ],
 "metadata": {
  "kernelspec": {
   "display_name": ".venv",
   "language": "python",
   "name": "python3"
  },
  "language_info": {
   "codemirror_mode": {
    "name": "ipython",
    "version": 3
   },
   "file_extension": ".py",
   "mimetype": "text/x-python",
   "name": "python",
   "nbconvert_exporter": "python",
   "pygments_lexer": "ipython3",
   "version": "3.13.5"
  }
 },
 "nbformat": 4,
 "nbformat_minor": 5
}
